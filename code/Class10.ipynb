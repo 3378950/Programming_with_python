{
 "cells": [
  {
   "cell_type": "code",
   "execution_count": 1,
   "metadata": {},
   "outputs": [],
   "source": [
    "mtb = dict()\n",
    "rmtb = dict()\n",
    "\n",
    "mtb = {\n",
    "'A': '·-',\n",
    "'B': '-···',\n",
    "'C': '-·-·',\n",
    "'D': '-··',\n",
    "'E': '·',\n",
    "'F': '··-·',\n",
    "'G': '--·',\n",
    "'H': '····',\n",
    "'I': '··',\n",
    "'J': '·---',\n",
    "'K': '-·-',\n",
    "'L': '·-··',\n",
    "'M': '--',\n",
    "'N': '-·',\n",
    "'O': '---',\n",
    "'P': '·--·',\n",
    "'Q': '--·-',\n",
    "'R': '·-·',\n",
    "'S': '···',\n",
    "'T': '-',\n",
    "'U': '··-',\n",
    "'V': '···-',\n",
    "'W': '·--',\n",
    "'X': '-··-',\n",
    "'Y': '-·--',\n",
    "'Z': '--··',\n",
    "'1': '·----',\n",
    "'2': '··---',\n",
    "'3': '···--',\n",
    "'4': '····',\n",
    "'5': '·····',\n",
    "'6': '-····',\n",
    "'7': '--···',\n",
    "'8': '---··',\n",
    "'9': '----·',\n",
    "'0': '-----',\n",
    "'.': '·-·-·-',\n",
    "':': '---···',\n",
    "',': '--··--',\n",
    "';': '-·-·-·',\n",
    "'?': '··--··',\n",
    "'=': '-···-',\n",
    "'\\'': '·----·',\n",
    "'/': '-··-·',\n",
    "'!': '-·-·--',\n",
    "'-': '-····-',\n",
    "'_': '··--·-',\n",
    "'\"': '·-··-·',\n",
    "'(': '-·--·',\n",
    "')': '-·--·-',\n",
    "'$': '···-··-',\n",
    "'&': '·-···',\n",
    "'@': '·--·-·',\n",
    "'+': '·-·-·',\n",
    "}\n",
    "\n",
    "rmtb = {'·-': 'A',\n",
    " '-···': 'B',\n",
    " '-·-·': 'C',\n",
    " '-··': 'D',\n",
    " '·': 'E',\n",
    " '··-·': 'F',\n",
    " '--·': 'G',\n",
    " '····': 'H',\n",
    " '··': 'I',\n",
    " '·---': 'J',\n",
    " '-·-': 'K',\n",
    " '·-··': 'L',\n",
    " '--': 'M',\n",
    " '-·': 'N',\n",
    " '---': 'O',\n",
    " '·--·': 'P',\n",
    " '--·-': 'Q',\n",
    " '·-·': 'R',\n",
    " '···': 'S',\n",
    " '-': 'T',\n",
    " '··-': 'U',\n",
    " '···-': 'V',\n",
    " '·--': 'W',\n",
    " '-··-': 'X',\n",
    " '-·--': 'Y',\n",
    " '--··': 'Z',\n",
    " '·----': '1',\n",
    " '··---': '2',\n",
    " '···--': '3',\n",
    " '····-': '4',\n",
    " '·····': '5',\n",
    " '-····': '6',\n",
    " '--···': '7',\n",
    " '---··': '8',\n",
    " '----·': '9',\n",
    " '-----': '0',\n",
    " '·-·-·-': '.',\n",
    " '---···': ':',\n",
    " '--··--': ',',\n",
    " '-·-·-·': ';',\n",
    " '··--··': '?',\n",
    " '-···-': '=',\n",
    " '·----·': \"'\",\n",
    " '-··-·': '/',\n",
    " '-·-·--': '!',\n",
    " '-····-': '-',\n",
    " '··--·-': '_',\n",
    " '·-··-·': '\"',\n",
    " '-·--·': '(',\n",
    " '-·--·-': ')',\n",
    " '···-··-': '$',\n",
    " '·-···': '&',\n",
    " '·--·-·': '@',\n",
    " '·-·-·': '+'\n",
    " }"
   ]
  },
  {
   "cell_type": "code",
   "execution_count": 2,
   "metadata": {},
   "outputs": [
    {
     "output_type": "execute_result",
     "data": {
      "text/plain": "7"
     },
     "metadata": {},
     "execution_count": 2
    }
   ],
   "source": [
    "max_n = max(len(k) for k in rmtb)\n",
    "max_n"
   ]
  },
  {
   "cell_type": "code",
   "execution_count": 3,
   "metadata": {},
   "outputs": [],
   "source": [
    "def guess_morse(seg, cur_morse, cur_start, res):\n",
    "    for end in range(cur_start + 1, min(cur_start + max_n + 1, len(seg) + 1)):\n",
    "        single_char = rmtb.get(seg[cur_start: end], None)\n",
    "        if single_char:\n",
    "            if end == len(seg):\n",
    "                res.append(cur_morse + single_char)\n",
    "                break\n",
    "            else:\n",
    "                guess_morse(seg, cur_morse + single_char, end, res)\n",
    "    if cur_start == 0:\n",
    "        return res"
   ]
  },
  {
   "cell_type": "code",
   "execution_count": 4,
   "metadata": {},
   "outputs": [
    {
     "output_type": "stream",
     "name": "stdout",
     "text": "8023840\n"
    }
   ],
   "source": [
    "res = guess_morse('·--··-······-·-·--··----·', '', 0, [])\n",
    "print(len(res))"
   ]
  },
  {
   "cell_type": "code",
   "execution_count": 5,
   "metadata": {},
   "outputs": [
    {
     "output_type": "execute_result",
     "data": {
      "text/plain": "10000"
     },
     "metadata": {},
     "execution_count": 5
    }
   ],
   "source": [
    "word_set = {}\n",
    "num = 0\n",
    "with open('google-10000-english.txt') as f:\n",
    "    for word in f.read().split():\n",
    "        num += 1\n",
    "        word_set[word.upper()] = num\n",
    "len(word_set)"
   ]
  },
  {
   "cell_type": "code",
   "execution_count": 6,
   "metadata": {},
   "outputs": [
    {
     "output_type": "stream",
     "name": "stdout",
     "text": "PRESENTATION 2161\n"
    }
   ],
   "source": [
    "for word in res:\n",
    "    if word in word_set:\n",
    "        print(word, word_set[word])"
   ]
  },
  {
   "cell_type": "code",
   "execution_count": 7,
   "metadata": {},
   "outputs": [
    {
     "output_type": "execute_result",
     "data": {
      "text/plain": "['PRESENTATION']"
     },
     "metadata": {},
     "execution_count": 7
    }
   ],
   "source": [
    "list(filter(lambda x: x in word_set, res))"
   ]
  },
  {
   "cell_type": "code",
   "execution_count": 8,
   "metadata": {},
   "outputs": [],
   "source": [
    "class morseCodec:\n",
    "    def __init__(self):\n",
    "        self.mtb = dict()\n",
    "        self.rmtb = dict()\n",
    "        self.mtb = {\n",
    "        'A': '·-',\n",
    "        'B': '-···',\n",
    "        'C': '-·-·',\n",
    "        'D': '-··',\n",
    "        'E': '·',\n",
    "        'F': '··-·',\n",
    "        'G': '--·',\n",
    "        'H': '····',\n",
    "        'I': '··',\n",
    "        'J': '·---',\n",
    "        'K': '-·-',\n",
    "        'L': '·-··',\n",
    "        'M': '--',\n",
    "        'N': '-·',\n",
    "        'O': '---',\n",
    "        'P': '·--·',\n",
    "        'Q': '--·-',\n",
    "        'R': '·-·',\n",
    "        'S': '···',\n",
    "        'T': '-',\n",
    "        'U': '··-',\n",
    "        'V': '···-',\n",
    "        'W': '·--',\n",
    "        'X': '-··-',\n",
    "        'Y': '-·--',\n",
    "        'Z': '--··',\n",
    "        '1': '·----',\n",
    "        '2': '··---',\n",
    "        '3': '···--',\n",
    "        '4': '····',\n",
    "        '5': '·····',\n",
    "        '6': '-····',\n",
    "        '7': '--···',\n",
    "        '8': '---··',\n",
    "        '9': '----·',\n",
    "        '0': '-----',\n",
    "        '.': '·-·-·-',\n",
    "        ':': '---···',\n",
    "        ',': '--··--',\n",
    "        ';': '-·-·-·',\n",
    "        '?': '··--··',\n",
    "        '=': '-···-',\n",
    "        '\\'': '·----·',\n",
    "        '/': '-··-·',\n",
    "        '!': '-·-·--',\n",
    "        '-': '-····-',\n",
    "        '_': '··--·-',\n",
    "        '\"': '·-··-·',\n",
    "        '(': '-·--·',\n",
    "        ')': '-·--·-',\n",
    "        '$': '···-··-',\n",
    "        '&': '·-···',\n",
    "        '@': '·--·-·',\n",
    "        '+': '·-·-·',\n",
    "        }\n",
    "\n",
    "        self.rmtb = {'·-': 'A',\n",
    "        '-···': 'B',\n",
    "        '-·-·': 'C',\n",
    "        '-··': 'D',\n",
    "        '·': 'E',\n",
    "        '··-·': 'F',\n",
    "        '--·': 'G',\n",
    "        '····': 'H',\n",
    "        '··': 'I',\n",
    "        '·---': 'J',\n",
    "        '-·-': 'K',\n",
    "        '·-··': 'L',\n",
    "        '--': 'M',\n",
    "        '-·': 'N',\n",
    "        '---': 'O',\n",
    "        '·--·': 'P',\n",
    "        '--·-': 'Q',\n",
    "        '·-·': 'R',\n",
    "        '···': 'S',\n",
    "        '-': 'T',\n",
    "        '··-': 'U',\n",
    "        '···-': 'V',\n",
    "        '·--': 'W',\n",
    "        '-··-': 'X',\n",
    "        '-·--': 'Y',\n",
    "        '--··': 'Z',\n",
    "        '·----': '1',\n",
    "        '··---': '2',\n",
    "        '···--': '3',\n",
    "        '····-': '4',\n",
    "        '·····': '5',\n",
    "        '-····': '6',\n",
    "        '--···': '7',\n",
    "        '---··': '8',\n",
    "        '----·': '9',\n",
    "        '-----': '0',\n",
    "        '·-·-·-': '.',\n",
    "        '---···': ':',\n",
    "        '--··--': ',',\n",
    "        '-·-·-·': ';',\n",
    "        '··--··': '?',\n",
    "        '-···-': '=',\n",
    "        '·----·': \"'\",\n",
    "        '-··-·': '/',\n",
    "        '-·-·--': '!',\n",
    "        '-····-': '-',\n",
    "        '··--·-': '_',\n",
    "        '·-··-·': '\"',\n",
    "        '-·--·': '(',\n",
    "        '-·--·-': ')',\n",
    "        '···-··-': '$',\n",
    "        '·-···': '&',\n",
    "        '·--·-·': '@',\n",
    "        '·-·-·': '+'\n",
    "        }\n",
    "\n",
    "    def encode(self, src_text):\n",
    "        res = ''\n",
    "        src_text = src_text.upper()\n",
    "        for ch in src_text:\n",
    "            res += self.mtb.get(ch, '')\n",
    "        return res\n",
    "    \n",
    "    def decode(self, morse_text):\n",
    "        res = ''\n",
    "        for seg in morse_text.split():\n",
    "            res += self.rmtb.get(seg, ' ')\n",
    "        return res"
   ]
  },
  {
   "cell_type": "code",
   "execution_count": 9,
   "metadata": {},
   "outputs": [],
   "source": [
    "all_word_dict = {}\n",
    "my_smooth_morse = morseCodec()\n",
    "\n",
    "with open('google-10000-english.txt') as f:\n",
    "    for word in f.read().split():\n",
    "        all_word_dict[my_smooth_morse.encode(word)] = word.upper()"
   ]
  },
  {
   "cell_type": "code",
   "execution_count": 10,
   "metadata": {},
   "outputs": [
    {
     "output_type": "execute_result",
     "data": {
      "text/plain": "['-·····',\n '---··-·',\n '·--·-··',\n '----',\n '·-',\n '··-·',\n '··-·---·-·',\n '·····',\n '----·',\n '-·····--']"
     },
     "metadata": {},
     "execution_count": 10
    }
   ],
   "source": [
    "list(all_word_dict)[:10]"
   ]
  },
  {
   "cell_type": "code",
   "execution_count": 11,
   "metadata": {},
   "outputs": [],
   "source": [
    "def guess_morse_new(seg):\n",
    "    if seg in all_word_dict:\n",
    "        print(all_word_dict[seg])\n",
    "    else:\n",
    "        print('N/A')"
   ]
  },
  {
   "cell_type": "code",
   "execution_count": 12,
   "metadata": {},
   "outputs": [
    {
     "output_type": "stream",
     "name": "stdout",
     "text": "PRESENTATION\n"
    }
   ],
   "source": [
    "guess_morse_new('·--··-······-·-·--··----·')"
   ]
  },
  {
   "cell_type": "code",
   "execution_count": 13,
   "metadata": {},
   "outputs": [],
   "source": [
    "word_dict = {}\n",
    "with open('google-10000-english.txt') as f:\n",
    "    for word in f.read().split()[:3000]:\n",
    "        word_dict[my_smooth_morse.encode(word)] = word\n",
    "word_dict[my_smooth_morse.encode('i')] = 'i'"
   ]
  },
  {
   "cell_type": "code",
   "execution_count": 14,
   "metadata": {},
   "outputs": [],
   "source": [
    "\n",
    "max_moorse_len = max([len(k) for k in word_dict])\n",
    "min_moorse_len = min([len(k) for k in word_dict])\n",
    "\n",
    "def guess_morse(morse_seg, cur_morse, cur_start, result, depth):\n",
    "    for end in range(cur_start + min_moorse_len, min(cur_start + max_moorse_len + 1, len(morse_seg) + 1)):\n",
    "        single_word = word_dict.get(morse_seg[cur_start:end], None) \n",
    "        if single_word:\n",
    "            if end == len(morse_seg):\n",
    "                result.append(cur_morse + ' ' + single_word)\n",
    "                break\n",
    "            elif depth <= 7:\n",
    "                guess_morse(morse_seg, cur_morse + ' ' + single_word, end, result, depth + 1)\n",
    "    if cur_start == 0:\n",
    "        return result"
   ]
  },
  {
   "cell_type": "code",
   "execution_count": 15,
   "metadata": {},
   "outputs": [],
   "source": [
    "result = guess_morse('···-··---···-·-·-----··-', '', 0, [], 0)"
   ]
  },
  {
   "cell_type": "code",
   "execution_count": 16,
   "metadata": {},
   "outputs": [
    {
     "output_type": "execute_result",
     "data": {
      "text/plain": "272337"
     },
     "metadata": {},
     "execution_count": 16
    }
   ],
   "source": [
    "len(result)"
   ]
  },
  {
   "cell_type": "code",
   "execution_count": 17,
   "metadata": {},
   "outputs": [],
   "source": [
    "res = []\n",
    "for item in result:\n",
    "    res.append((len(item.split()), item))"
   ]
  },
  {
   "cell_type": "code",
   "execution_count": 18,
   "metadata": {},
   "outputs": [],
   "source": [
    "res = sorted(res)"
   ]
  },
  {
   "cell_type": "code",
   "execution_count": 19,
   "metadata": {},
   "outputs": [
    {
     "output_type": "execute_result",
     "data": {
      "text/plain": "True"
     },
     "metadata": {},
     "execution_count": 19
    }
   ],
   "source": [
    "'i' in word_dict.values()"
   ]
  },
  {
   "cell_type": "code",
   "execution_count": 20,
   "metadata": {},
   "outputs": [
    {
     "output_type": "execute_result",
     "data": {
      "text/plain": "[(3, ' i love you'),\n (4, ' e e love you'),\n (4, ' e fat dr you'),\n (4, ' eu eat dr you'),\n (4, ' eu u msn you'),\n (4, ' i aim dr you'),\n (4, ' i au msn you'),\n (4, ' i aug f you'),\n (4, ' i los co ga'),\n (4, ' i los com u'),\n (4, ' i los come et'),\n (4, ' i los n you'),\n (4, ' i lost e you'),\n (4, ' i lost rom u'),\n (4, ' i love km ga'),\n (4, ' i love not tea'),\n (4, ' i love two u'),\n (4, ' ie name f you'),\n (4, ' ie nj scott u'),\n (4, ' ie tea msn you'),\n (4, ' ie teams co ga'),\n (4, ' ie teams com u'),\n (4, ' ie teams come et'),\n (4, ' ie teams n you'),\n (4, ' ie tim dr you'),\n (4, ' sd m dr you'),\n (4, ' sd md en you'),\n (4, ' sd mt scott u'),\n (4, ' sd os co ga'),\n (4, ' sd os com u')]"
     },
     "metadata": {},
     "execution_count": 20
    }
   ],
   "source": [
    "res[:30]"
   ]
  }
 ],
 "metadata": {
  "language_info": {
   "codemirror_mode": {
    "name": "ipython",
    "version": 3
   },
   "file_extension": ".py",
   "mimetype": "text/x-python",
   "name": "python",
   "nbconvert_exporter": "python",
   "pygments_lexer": "ipython3",
   "version": "3.7.6-final"
  },
  "orig_nbformat": 2,
  "kernelspec": {
   "name": "python3",
   "display_name": "Python 3"
  }
 },
 "nbformat": 4,
 "nbformat_minor": 2
}