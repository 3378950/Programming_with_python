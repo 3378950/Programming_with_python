{
 "cells": [
  {
   "cell_type": "code",
   "execution_count": 1,
   "metadata": {},
   "outputs": [],
   "source": [
    "\n",
    "src_text = \"\"\"A\t．━\n",
    "B\t━ ．．．\n",
    "C\t━ ．━ ．\n",
    "D\t━ ．.\n",
    "E\t．\n",
    "F\t．．━ ．\n",
    "G\t━ ━ ．\n",
    "H\t．．．．\n",
    "I\t．．\n",
    "J\t．━ ━ ━\n",
    "K\t━ ．━\n",
    "L\t．━ ．．\n",
    "M\t━ ━\n",
    "N\t━ ．\n",
    "O\t━ ━ ━\n",
    "P\t．━ ━ ．\n",
    "Q\t━ ━ ．━\n",
    "R\t．━ ．\n",
    "S\t．．．\n",
    "T\t━\n",
    "U\t．．━\n",
    "V\t．．．━\n",
    "W\t．━ ━\n",
    "X\t━ ．．━\n",
    "Y\t━ ．━ ━\n",
    "Z\t━ ━ ．．\"\"\""
   ]
  },
  {
   "cell_type": "code",
   "execution_count": 2,
   "metadata": {},
   "outputs": [
    {
     "output_type": "execute_result",
     "data": {
      "text/plain": "26"
     },
     "metadata": {},
     "execution_count": 2
    }
   ],
   "source": [
    "moorse_table_dict_ = dict()\n",
    "for line in src_text.split('\\n'):\n",
    "    k, v = line.split('\\t')\n",
    "    moorse_table_dict_[k] = v\n",
    "moorse_table_dict_\n",
    "len(moorse_table_dict_)"
   ]
  },
  {
   "cell_type": "code",
   "execution_count": 3,
   "metadata": {},
   "outputs": [
    {
     "output_type": "stream",
     "name": "stdout",
     "text": "A ．━\nB ━ ．．．\nC ━ ．━ ．\nD ━ ．.\nE ．\nF ．．━ ．\nG ━ ━ ．\nH ．．．．\nI ．．\nJ ．━ ━ ━\nK ━ ．━\nL ．━ ．．\nM ━ ━\nN ━ ．\nO ━ ━ ━\nP ．━ ━ ．\nQ ━ ━ ．━\nR ．━ ．\nS ．．．\nT ━\nU ．．━\nV ．．．━\nW ．━ ━\nX ━ ．．━\nY ━ ．━ ━\nZ ━ ━ ．．\n"
    }
   ],
   "source": [
    "tmp = src_text.split('\\n')\n",
    "for line in tmp:\n",
    "    k, v = line.split('\\t')\n",
    "    print(k, v)"
   ]
  },
  {
   "cell_type": "code",
   "execution_count": 13,
   "metadata": {},
   "outputs": [
    {
     "output_type": "stream",
     "name": "stdout",
     "text": "A ．━\nE ．\nI ．．\nM ━ ━\nQ ━ ━ ．━\nU ．．━\nY ━ ．━ ━\nB ━ ．．．\nF ．．━ ．\nJ ．━ ━ ━\nN ━ ．\nR ．━ ．\nV ．．．━\nZ ━ ━ ．．\nC ━ ．━ ．\nG ━ ━ ．\nK ━ ．━\nO ━ ━ ━\nS ．．．\nW ．━ ━\nD ━ ．．\nH ．．．．\nL ．━ ．．\nP ．━ ━ ．\nT ━\nX ━ ．．━\n"
    },
    {
     "output_type": "error",
     "ename": "IndexError",
     "evalue": "string index out of range",
     "traceback": [
      "\u001b[1;31m---------------------------------------------------------------------------\u001b[0m",
      "\u001b[1;31mIndexError\u001b[0m                                Traceback (most recent call last)",
      "\u001b[1;32m<ipython-input-13-7f1500877b31>\u001b[0m in \u001b[0;36m<module>\u001b[1;34m\u001b[0m\n\u001b[0;32m      4\u001b[0m     \u001b[0mrd\u001b[0m \u001b[1;33m=\u001b[0m \u001b[0mcsv\u001b[0m\u001b[1;33m.\u001b[0m\u001b[0mreader\u001b[0m\u001b[1;33m(\u001b[0m\u001b[0mf\u001b[0m\u001b[1;33m)\u001b[0m\u001b[1;33m\u001b[0m\u001b[1;33m\u001b[0m\u001b[0m\n\u001b[0;32m      5\u001b[0m     \u001b[1;32mfor\u001b[0m \u001b[0mrow\u001b[0m \u001b[1;32min\u001b[0m \u001b[0mrd\u001b[0m\u001b[1;33m:\u001b[0m\u001b[1;33m\u001b[0m\u001b[1;33m\u001b[0m\u001b[0m\n\u001b[1;32m----> 6\u001b[1;33m         \u001b[0mprint\u001b[0m\u001b[1;33m(\u001b[0m\u001b[0mrow\u001b[0m\u001b[1;33m[\u001b[0m\u001b[1;36m0\u001b[0m\u001b[1;33m]\u001b[0m\u001b[1;33m[\u001b[0m\u001b[1;33m-\u001b[0m\u001b[1;36m1\u001b[0m\u001b[1;33m]\u001b[0m\u001b[1;33m,\u001b[0m \u001b[0mrow\u001b[0m\u001b[1;33m[\u001b[0m\u001b[1;36m1\u001b[0m\u001b[1;33m]\u001b[0m\u001b[1;33m)\u001b[0m\u001b[1;33m\u001b[0m\u001b[1;33m\u001b[0m\u001b[0m\n\u001b[0m\u001b[0;32m      7\u001b[0m         \u001b[0mmtb\u001b[0m\u001b[1;33m[\u001b[0m\u001b[0mrow\u001b[0m\u001b[1;33m[\u001b[0m\u001b[1;36m0\u001b[0m\u001b[1;33m]\u001b[0m\u001b[1;33m[\u001b[0m\u001b[1;33m-\u001b[0m\u001b[1;36m1\u001b[0m\u001b[1;33m]\u001b[0m\u001b[1;33m]\u001b[0m \u001b[1;33m=\u001b[0m \u001b[0mrow\u001b[0m\u001b[1;33m[\u001b[0m\u001b[1;36m1\u001b[0m\u001b[1;33m]\u001b[0m\u001b[1;33m\u001b[0m\u001b[1;33m\u001b[0m\u001b[0m\n",
      "\u001b[1;31mIndexError\u001b[0m: string index out of range"
     ]
    }
   ],
   "source": [
    "import csv\n",
    "mtb = dict()\n",
    "with open('mtb.csv', 'r', encoding='UTF-8') as f:\n",
    "    rd = csv.reader(f)\n",
    "    for row in rd:\n",
    "        print(row[0][-1], row[1])\n",
    "        mtb[row[0][-1]] = row[1]     "
   ]
  },
  {
   "cell_type": "code",
   "execution_count": 14,
   "metadata": {},
   "outputs": [
    {
     "output_type": "stream",
     "name": "stdout",
     "text": "{'A': '．━', 'E': '．', 'I': '．．', 'M': '━ ━', 'Q': '━ ━ ．━', 'U': '．．━', 'Y': '━ ．━ ━', 'B': '━ ．．．', 'F': '．．━ ．', 'J': '．━ ━ ━', 'N': '━ ．', 'R': '．━ ．', 'V': '．．．━', 'Z': '━ ━ ．．', 'C': '━ ．━ ．', 'G': '━ ━ ．', 'K': '━ ．━', 'O': '━ ━ ━', 'S': '．．．', 'W': '．━ ━', 'D': '━ ．．', 'H': '．．．．', 'L': '．━ ．．', 'P': '．━ ━ ．', 'T': '━', 'X': '━ ．．━'}\n"
    }
   ],
   "source": [
    "print(mtb)"
   ]
  },
  {
   "cell_type": "code",
   "execution_count": null,
   "metadata": {},
   "outputs": [],
   "source": []
  }
 ],
 "metadata": {
  "language_info": {
   "codemirror_mode": {
    "name": "ipython",
    "version": 3
   },
   "file_extension": ".py",
   "mimetype": "text/x-python",
   "name": "python",
   "nbconvert_exporter": "python",
   "pygments_lexer": "ipython3",
   "version": "3.7.6-final"
  },
  "orig_nbformat": 2,
  "kernelspec": {
   "name": "python3",
   "display_name": "Python 3"
  }
 },
 "nbformat": 4,
 "nbformat_minor": 2
}